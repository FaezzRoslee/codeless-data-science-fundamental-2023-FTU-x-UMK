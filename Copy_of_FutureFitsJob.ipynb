{
  "nbformat": 4,
  "nbformat_minor": 0,
  "metadata": {
    "colab": {
      "provenance": [],
      "authorship_tag": "ABX9TyPNVcGP3j9ZFFEKQ9UFyHQI",
      "include_colab_link": true
    },
    "kernelspec": {
      "name": "python3",
      "display_name": "Python 3"
    },
    "language_info": {
      "name": "python"
    }
  },
  "cells": [
    {
      "cell_type": "markdown",
      "metadata": {
        "id": "view-in-github",
        "colab_type": "text"
      },
      "source": [
        "<a href=\"https://colab.research.google.com/github/FaezzRoslee/codeless-data-science-fundamental-2023-FTU-x-UMK/blob/main/Copy_of_FutureFitsJob.ipynb\" target=\"_parent\"><img src=\"https://colab.research.google.com/assets/colab-badge.svg\" alt=\"Open In Colab\"/></a>"
      ]
    },
    {
      "cell_type": "code",
      "execution_count": null,
      "metadata": {
        "colab": {
          "base_uri": "https://localhost:8080/"
        },
        "id": "jGrm2nIpg4gd",
        "outputId": "4ce0b44d-1a3f-4ae6-c215-f4fd94a38ae8"
      },
      "outputs": [
        {
          "output_type": "stream",
          "name": "stdout",
          "text": [
            "Thank you for using FutureFitsJob. We wish you all the best in your career!\n"
          ]
        }
      ],
      "source": [
        "from IPython.display import clear_output\n",
        "import difflib\n",
        "import re\n",
        "\n",
        "# Login system\n",
        "def login():\n",
        "    print(\"Welcome to FutureFitsJob\")\n",
        "    print(\"Where your future jobs await you.\")\n",
        "    input(\"Press Enter to proceed...\")  # Wait for user to press Enter\n",
        "    clear_output()  # Clear the welcome message\n",
        "    return True\n",
        "\n",
        "# Job to subject mapping\n",
        "job_subject_map = {\n",
        "    'Software Developer': ['computer science', 'software engineering'],\n",
        "    'Data Scientist': ['computer science', 'mathematics', 'physics', 'data science'],\n",
        "    'System Analyst': ['computer science', 'information systems'],\n",
        "    'Data Analyst': ['mathematics', 'economics', 'data science'],\n",
        "    'Actuary': ['mathematics'],\n",
        "    'Quantitative Analyst': ['mathematics', 'economics'],\n",
        "    'Research Scientist': ['physics', 'chemistry', 'biology'],\n",
        "    'Lab Technician': ['physics', 'chemistry', 'biology'],\n",
        "    'Chemical Engineer': ['chemistry'],\n",
        "    'Pharmacist': ['chemistry'],\n",
        "    'Biotechnologist': ['biology'],\n",
        "    'Economist': ['economics'],\n",
        "    'Financial Analyst': ['economics', 'business'],\n",
        "    'Policy Analyst': ['economics'],\n",
        "    'Business Analyst': ['business', 'information systems'],\n",
        "    'Marketing Manager': ['business'],\n",
        "    'Human Resources Manager': ['business'],\n",
        "    'Mechanical Engineer': ['engineering'],\n",
        "    'Electrical Engineer': ['engineering'],\n",
        "    'Civil Engineer': ['engineering'],\n",
        "    'IT Support Specialist': ['information technology'],\n",
        "    'Network Administrator': ['information technology'],\n",
        "    'Cybersecurity Analyst': ['information technology', 'cybersecurity'],\n",
        "    'Penetration Tester': ['cybersecurity'],\n",
        "    'Security Consultant': ['cybersecurity'],\n",
        "    'Machine Learning Engineer': ['data science', 'artificial intelligence'],\n",
        "    'Full Stack Developer': ['software engineering'],\n",
        "    'DevOps Engineer': ['software engineering'],\n",
        "    'IT Project Manager': ['information systems'],\n",
        "    'Database Administrator': ['information systems'],\n",
        "    'AI Research Scientist': ['artificial intelligence']\n",
        "    # Add more jobs and subjects as needed\n",
        "}\n",
        "\n",
        "# Extract subjects from job_subject_map\n",
        "subject_list = {subject for subjects in job_subject_map.values() for subject in subjects}\n",
        "\n",
        "# Function to normalize subject names (lowercasing and removing non-alphanumeric characters)\n",
        "def normalize_subject(subject):\n",
        "    subject = subject.lower()\n",
        "    subject = re.sub(r'[^a-z\\s]', '', subject)\n",
        "    subject = subject.strip()\n",
        "    return subject\n",
        "\n",
        "# Function to get close match for a potentially misspelled subject\n",
        "def get_closest_subject(subject, subject_list):\n",
        "    matches = difflib.get_close_matches(subject, subject_list)\n",
        "    if matches:\n",
        "        return matches[0]\n",
        "    else:\n",
        "        return None\n",
        "\n",
        "# Function to get job recommendations based on subjects\n",
        "def get_job_recommendations(subjects_input):\n",
        "    subjects = [normalize_subject(subject) for subject in subjects_input.split(',')]\n",
        "    recommended_jobs = set()\n",
        "    for subject in subjects:\n",
        "        closest_subject = get_closest_subject(subject, subject_list)\n",
        "        if closest_subject and closest_subject != subject:\n",
        "            print(f\"Did you mean '{closest_subject}' for '{subject}'?\")\n",
        "            subject = closest_subject\n",
        "        for job, job_subjects in job_subject_map.items():\n",
        "            if subject in job_subjects:\n",
        "                recommended_jobs.add(job)\n",
        "    return list(recommended_jobs)\n",
        "\n",
        "# Program flow\n",
        "if login():\n",
        "    # Collecting subjects learned by the student\n",
        "    subjects_input = input(\"Enter the subjects you have learned, separated by commas: \")\n",
        "    clear_output()  # Clear input prompt after receiving input\n",
        "\n",
        "    # Get recommendations\n",
        "    recommended_jobs = get_job_recommendations(subjects_input)\n",
        "\n",
        "    # Display the recommendations\n",
        "    if recommended_jobs:\n",
        "        print(\"Based on the subjects you have learned, here are some job recommendations for you:\")\n",
        "        for job in recommended_jobs:\n",
        "            print(f\"- {job}\")\n",
        "    else:\n",
        "        print(\"No job recommendations found for the subjects entered.\")\n",
        "\n",
        "    # Pause to allow the user to read recommendations before clearing\n",
        "    input(\"\\nPress Enter to continue...\")\n",
        "\n",
        "    # Clear the job recommendations and display thank you message\n",
        "    clear_output()\n",
        "    print(\"Thank you for using FutureFitsJob. We wish you all the best in your career!\")"
      ]
    }
  ]
}